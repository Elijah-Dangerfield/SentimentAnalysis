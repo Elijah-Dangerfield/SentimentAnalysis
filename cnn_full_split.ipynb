{
 "cells": [
  {
   "cell_type": "code",
   "execution_count": 3,
   "metadata": {},
   "outputs": [],
   "source": [
    "#using just the yelp dataset for training we were capped at out 80% accuracy. In this file we will combine all the\n",
    "#datasets into a train/test split using out best hypter peramters found and just see what happens"
   ]
  },
  {
   "cell_type": "code",
   "execution_count": 1,
   "metadata": {},
   "outputs": [
    {
     "name": "stderr",
     "output_type": "stream",
     "text": [
      "Using TensorFlow backend.\n"
     ]
    }
   ],
   "source": [
    "import pandas as pd \n",
    "import numpy as np\n",
    "import util\n",
    "from keras.models import Sequential\n",
    "from keras import layers\n",
    "from keras.preprocessing.sequence import pad_sequences\n",
    "from keras.models import Sequential\n",
    "from keras import layers\n",
    "from keras.layers import Dropout\n",
    "\n",
    "import matplotlib.pyplot as plt\n",
    "plt.style.use('ggplot')\n",
    "\n",
    "from sklearn.model_selection import train_test_split\n",
    "from keras.preprocessing.text import Tokenizer"
   ]
  },
  {
   "cell_type": "code",
   "execution_count": 2,
   "metadata": {},
   "outputs": [
    {
     "name": "stdout",
     "output_type": "stream",
     "text": [
      "sentence    Wow... Loved this place.\n",
      "label                              1\n",
      "source                          yelp\n",
      "Name: 0, dtype: object\n"
     ]
    }
   ],
   "source": [
    "df = util.get_full_data_frame()\n",
    "print(df.iloc[0])"
   ]
  },
  {
   "cell_type": "code",
   "execution_count": 10,
   "metadata": {},
   "outputs": [
    {
     "name": "stdout",
     "output_type": "stream",
     "text": [
      "Training set: 2061 \n",
      "Testing set: 687 \n"
     ]
    }
   ],
   "source": [
    "sentences = df['sentence'].values\n",
    "y = df['label'].values\n",
    "\n",
    "sentences_train,sentences_test,y_train,y_test = train_test_split(sentences,y,test_size=0.25,random_state=1000)\n",
    "\n",
    "print('Training set: {} '.format(len(sentences_train)))\n",
    "print('Testing set: {} '.format(len(sentences_test)))"
   ]
  },
  {
   "cell_type": "code",
   "execution_count": 11,
   "metadata": {},
   "outputs": [
    {
     "name": "stdout",
     "output_type": "stream",
     "text": [
      "Vocab Size:  4603\n",
      "[43, 10, 4, 607, 323, 15, 1, 47, 2, 3, 350, 37, 109, 1908, 12, 4, 279, 1236]\n",
      "There was a warm feeling with the service and I felt like their guest for a special treat.\n"
     ]
    }
   ],
   "source": [
    "# so in order to embed the words they first need to be tokenized (pre-processed)\n",
    "tokenizer = Tokenizer(num_words=5000)\n",
    "# this fills the dictionry of 5000 words with the words from the 750 yelp reviews\n",
    "tokenizer.fit_on_texts(sentences_train)\n",
    "\n",
    "# creates the vector representation of the sentences where each element is the index of that word in the dictionry\n",
    "X_train = tokenizer.texts_to_sequences(sentences_train)\n",
    "X_test = tokenizer.texts_to_sequences(sentences_test)\n",
    "\n",
    "vocab_size = len(tokenizer.word_index) + 1  #reserves 0 index\n",
    "\n",
    "print(\"Vocab Size: \", vocab_size)\n",
    "print(X_train[1])\n",
    "print(sentences_train[1])"
   ]
  },
  {
   "cell_type": "code",
   "execution_count": 12,
   "metadata": {},
   "outputs": [
    {
     "name": "stdout",
     "output_type": "stream",
     "text": [
      "[  43   10    4  607  323   15    1   47    2    3  350   37  109 1908\n",
      "   12    4  279 1236    0    0    0    0    0    0    0    0    0    0\n",
      "    0    0    0    0    0    0    0    0    0    0    0    0    0    0\n",
      "    0    0    0    0    0    0    0    0    0    0    0    0    0    0\n",
      "    0    0    0    0    0    0    0    0    0    0    0    0    0    0\n",
      "    0    0    0    0    0    0    0    0    0    0    0    0    0    0\n",
      "    0    0    0    0    0    0    0    0    0    0    0    0    0    0\n",
      "    0    0]\n"
     ]
    }
   ],
   "source": [
    "# again we make all feature vectors the same size here\n",
    "maxlen = 100\n",
    "\n",
    "X_train = pad_sequences(X_train,padding='post',maxlen=maxlen)\n",
    "X_test = pad_sequences(X_test,padding='post',maxlen=maxlen)\n",
    "\n",
    "print(X_train[1])"
   ]
  },
  {
   "cell_type": "code",
   "execution_count": 13,
   "metadata": {},
   "outputs": [],
   "source": [
    "def create_embedding_matrix(filepath, word_index, embedding_dim):\n",
    "    vocab_size = len(word_index) + 1  # Adding again 1 because of reserved 0 index\n",
    "    embedding_matrix = np.zeros((vocab_size, embedding_dim))\n",
    "\n",
    "    with open(filepath) as f:\n",
    "        for line in f:\n",
    "            word, *vector = line.split()\n",
    "            if word in word_index:\n",
    "                idx = word_index[word] \n",
    "                embedding_matrix[idx] = np.array(\n",
    "                    vector, dtype=np.float32)[:embedding_dim]\n",
    "\n",
    "    return embedding_matrix"
   ]
  },
  {
   "cell_type": "code",
   "execution_count": 14,
   "metadata": {},
   "outputs": [],
   "source": [
    "embedding_dim = 100 #tuning told us this was the best dim for our dataset\n",
    "embedding_matrix = create_embedding_matrix('/Users/elidangerfield/Desktop/glove.6B/glove.6B.100d.txt',\n",
    "                                           tokenizer.word_index, \n",
    "                                           embedding_dim)"
   ]
  },
  {
   "cell_type": "code",
   "execution_count": 16,
   "metadata": {},
   "outputs": [
    {
     "data": {
      "text/plain": [
       "(4603, 100)"
      ]
     },
     "execution_count": 16,
     "metadata": {},
     "output_type": "execute_result"
    }
   ],
   "source": [
    "# so now we have 4603 words with a 100 dimension vector representation (if it existed already) courtesy of GloVe :)\n",
    "embedding_matrix.shape"
   ]
  },
  {
   "cell_type": "code",
   "execution_count": 25,
   "metadata": {},
   "outputs": [
    {
     "name": "stdout",
     "output_type": "stream",
     "text": [
      "WARNING:tensorflow:From /Users/elidangerfield/anaconda3/envs/firstML/lib/python3.6/site-packages/keras/backend/tensorflow_backend.py:3445: calling dropout (from tensorflow.python.ops.nn_ops) with keep_prob is deprecated and will be removed in a future version.\n",
      "Instructions for updating:\n",
      "Please use `rate` instead of `keep_prob`. Rate should be set to `rate = 1 - keep_prob`.\n",
      "_________________________________________________________________\n",
      "Layer (type)                 Output Shape              Param #   \n",
      "=================================================================\n",
      "embedding_4 (Embedding)      (None, 100, 100)          460300    \n",
      "_________________________________________________________________\n",
      "conv1d_3 (Conv1D)            (None, 98, 32)            9632      \n",
      "_________________________________________________________________\n",
      "global_max_pooling1d_4 (Glob (None, 32)                0         \n",
      "_________________________________________________________________\n",
      "dense_6 (Dense)              (None, 10)                330       \n",
      "_________________________________________________________________\n",
      "dropout_1 (Dropout)          (None, 10)                0         \n",
      "_________________________________________________________________\n",
      "dense_7 (Dense)              (None, 1)                 11        \n",
      "=================================================================\n",
      "Total params: 470,273\n",
      "Trainable params: 470,273\n",
      "Non-trainable params: 0\n",
      "_________________________________________________________________\n"
     ]
    }
   ],
   "source": [
    "kernel_size=3\n",
    "num_filters=32\n",
    "dropout_rate=0.2 \n",
    "model = Sequential()\n",
    "model.add(layers.Embedding(vocab_size, embedding_dim, input_length=maxlen))\n",
    "model.add(layers.Conv1D(num_filters, kernel_size, activation='relu'))\n",
    "model.add(layers.GlobalMaxPooling1D())\n",
    "model.add(layers.Dense(10, activation='relu'))\n",
    "model.add(Dropout(dropout_rate))\n",
    "model.add(layers.Dense(1, activation='sigmoid'))\n",
    "model.compile(optimizer='adam',\n",
    "                loss='binary_crossentropy',\n",
    "                metrics=['accuracy'])\n",
    "\n",
    "model.summary()"
   ]
  },
  {
   "cell_type": "code",
   "execution_count": 26,
   "metadata": {},
   "outputs": [
    {
     "name": "stdout",
     "output_type": "stream",
     "text": [
      "Train on 2061 samples, validate on 687 samples\n",
      "Epoch 1/10\n",
      "2061/2061 [==============================] - 8s 4ms/step - loss: 0.6319 - acc: 0.6414 - val_loss: 0.4791 - val_acc: 0.8020\n",
      "Epoch 2/10\n",
      "2061/2061 [==============================] - 6s 3ms/step - loss: 0.3591 - acc: 0.8685 - val_loss: 0.3557 - val_acc: 0.8574\n",
      "Epoch 3/10\n",
      "2061/2061 [==============================] - 6s 3ms/step - loss: 0.1439 - acc: 0.9607 - val_loss: 0.3761 - val_acc: 0.8355\n",
      "Epoch 4/10\n",
      "2061/2061 [==============================] - 6s 3ms/step - loss: 0.0585 - acc: 0.9874 - val_loss: 0.4317 - val_acc: 0.8413\n",
      "Epoch 5/10\n",
      "2061/2061 [==============================] - 6s 3ms/step - loss: 0.0281 - acc: 0.9956 - val_loss: 0.4704 - val_acc: 0.8370\n",
      "Epoch 6/10\n",
      "2061/2061 [==============================] - 6s 3ms/step - loss: 0.0144 - acc: 0.9971 - val_loss: 0.5322 - val_acc: 0.8355\n",
      "Epoch 7/10\n",
      "2061/2061 [==============================] - 7s 3ms/step - loss: 0.0078 - acc: 0.9990 - val_loss: 0.5935 - val_acc: 0.8384\n",
      "Epoch 8/10\n",
      "2061/2061 [==============================] - 7s 3ms/step - loss: 0.0062 - acc: 0.9990 - val_loss: 0.6329 - val_acc: 0.8355\n",
      "Epoch 9/10\n",
      "2061/2061 [==============================] - 6s 3ms/step - loss: 0.0027 - acc: 1.0000 - val_loss: 0.6692 - val_acc: 0.8384\n",
      "Epoch 10/10\n",
      "2061/2061 [==============================] - 6s 3ms/step - loss: 0.0025 - acc: 0.9995 - val_loss: 0.7238 - val_acc: 0.8311\n"
     ]
    }
   ],
   "source": [
    "history = model.fit(X_train, y_train,\n",
    "                    epochs=10,\n",
    "                    verbose=True,\n",
    "                    validation_data=(X_test, y_test),\n",
    "                    batch_size=10)\n"
   ]
  },
  {
   "cell_type": "code",
   "execution_count": 27,
   "metadata": {},
   "outputs": [
    {
     "name": "stdout",
     "output_type": "stream",
     "text": [
      "Training Accuracy: 1.0000\n",
      "Testing Accuracy:  0.8311\n"
     ]
    },
    {
     "data": {
      "image/png": "[encoded data removed]",
      "text/plain": [
       "<Figure size 864x360 with 2 Axes>"
      ]
     },
     "metadata": {},
     "output_type": "display_data"
    }
   ],
   "source": [
    "loss, accuracy = model.evaluate(X_train, y_train, verbose=False)\n",
    "print(\"Training Accuracy: {:.4f}\".format(accuracy))\n",
    "loss, accuracy = model.evaluate(X_test, y_test, verbose=False)\n",
    "print(\"Testing Accuracy:  {:.4f}\".format(accuracy))\n",
    "util.plot_history(history)"
   ]
  },
  {
   "cell_type": "code",
   "execution_count": null,
   "metadata": {},
   "outputs": [],
   "source": [
    "#dang this is very very clearly overfitted"
   ]
  }
 ],
 "metadata": {
  "kernelspec": {
   "display_name": "MNIST_CNN",
   "language": "python",
   "name": "mnist_cnn"
  },
  "language_info": {
   "codemirror_mode": {
    "name": "ipython",
    "version": 3
   },
   "file_extension": ".py",
   "mimetype": "text/x-python",
   "name": "python",
   "nbconvert_exporter": "python",
   "pygments_lexer": "ipython3",
   "version": "3.6.9"
  },
  "toc": {
   "base_numbering": 1,
   "nav_menu": {},
   "number_sections": true,
   "sideBar": true,
   "skip_h1_title": false,
   "title_cell": "Table of Contents",
   "title_sidebar": "Contents",
   "toc_cell": false,
   "toc_position": {},
   "toc_section_display": true,
   "toc_window_display": false
  }
 },
 "nbformat": 4,
 "nbformat_minor": 2
}
