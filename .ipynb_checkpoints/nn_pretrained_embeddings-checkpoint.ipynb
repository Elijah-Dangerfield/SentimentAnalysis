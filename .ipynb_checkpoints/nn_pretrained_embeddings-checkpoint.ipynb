{
 "cells": [
  {
   "cell_type": "markdown",
   "metadata": {},
   "source": [
    "## Before you read:"
   ]
  },
  {
   "cell_type": "markdown",
   "metadata": {},
   "source": [
    "#### Note that the GloVe pretrained vector embeddings were used in this project. You can download the embeddings [here](http://nlp.stanford.edu/data/glove.6B.zip)"
   ]
  },
  {
   "cell_type": "code",
   "execution_count": 34,
   "metadata": {},
   "outputs": [],
   "source": [
    "import pandas as pd \n",
    "import numpy as np\n",
    "\n",
    "from keras.models import Sequential\n",
    "from keras import layers\n",
    "from keras.preprocessing.sequence import pad_sequences\n",
    "from keras.models import Sequential\n",
    "from keras import layers\n",
    "\n",
    "import matplotlib.pyplot as plt\n",
    "plt.style.use('ggplot')\n",
    "\n",
    "from sklearn.model_selection import train_test_split\n",
    "from keras.preprocessing.text import Tokenizer"
   ]
  },
  {
   "cell_type": "code",
   "execution_count": 4,
   "metadata": {},
   "outputs": [
    {
     "name": "stdout",
     "output_type": "stream",
     "text": [
      "sentence    Wow... Loved this place.\n",
      "label                              1\n",
      "source                          yelp\n",
      "Name: 0, dtype: object\n"
     ]
    }
   ],
   "source": [
    "filepath_dict = {'yelp': './data/yelp_labelled.txt',\n",
    "                'amazon' : './data/amazon_cells_labelled.txt',\n",
    "                'imdb' : './data/imdb_labelled.txt'}\n",
    "df_list = []\n",
    "for source,path in filepath_dict.items():\n",
    "    df = pd.read_csv(path, names = ['sentence', 'label'], sep= '\\t')\n",
    "    df['source'] = source\n",
    "    df_list.append(df)\n",
    "\n",
    "df = pd.concat(df_list)\n",
    "print(df.iloc[0])"
   ]
  },
  {
   "cell_type": "code",
   "execution_count": 6,
   "metadata": {},
   "outputs": [
    {
     "name": "stdout",
     "output_type": "stream",
     "text": [
      "Training set: 750 \n",
      "Testing set: 250 \n"
     ]
    }
   ],
   "source": [
    "df_yelp = df[df['source'] == 'yelp']\n",
    "sentences = df_yelp['sentence'].values\n",
    "y = df_yelp['label'].values\n",
    "\n",
    "sentences_train,sentences_test,y_train,y_test = train_test_split(sentences,y,test_size=0.25,random_state=1000)\n",
    "\n",
    "print('Training set: {} '.format(len(sentences_train)))\n",
    "print('Testing set: {} '.format(len(sentences_test)))"
   ]
  },
  {
   "cell_type": "code",
   "execution_count": 24,
   "metadata": {},
   "outputs": [
    {
     "name": "stdout",
     "output_type": "stream",
     "text": [
      "Vocab Size:  1747\n",
      "[740, 4, 46, 12, 20, 160, 10, 72, 35, 355, 232]\n",
      "Sorry, I will not be getting food from here anytime soon :(\n"
     ]
    }
   ],
   "source": [
    "# so in order to embed the words they first need to be tokenized (pre-processed)\n",
    "tokenizer = Tokenizer(num_words=5000)\n",
    "# this fills the dictionry of 5000 words with the words from the 750 yelp reviews\n",
    "tokenizer.fit_on_texts(sentences_train)\n",
    "\n",
    "# creates the vector representation of the sentences where each element is the index of that word in the dictionry\n",
    "X_train = tokenizer.texts_to_sequences(sentences_train)\n",
    "X_test = tokenizer.texts_to_sequences(sentences_test)\n",
    "\n",
    "vocab_size = len(tokenizer.word_index) + 1  #reserves 0 index\n",
    "\n",
    "print(\"Vocab Size: \", vocab_size)\n",
    "print(X_train[1])\n",
    "print(sentences_train[1])"
   ]
  },
  {
   "cell_type": "code",
   "execution_count": 26,
   "metadata": {},
   "outputs": [
    {
     "name": "stdout",
     "output_type": "stream",
     "text": [
      "[740   4  46  12  20 160  10  72  35 355 232   0   0   0   0   0   0   0\n",
      "   0   0   0   0   0   0   0   0   0   0   0   0   0   0   0   0   0   0\n",
      "   0   0   0   0   0   0   0   0   0   0   0   0   0   0   0   0   0   0\n",
      "   0   0   0   0   0   0   0   0   0   0   0   0   0   0   0   0   0   0\n",
      "   0   0   0   0   0   0   0   0   0   0   0   0   0   0   0   0   0   0\n",
      "   0   0   0   0   0   0   0   0   0   0]\n"
     ]
    }
   ],
   "source": [
    "# again we make all feature vectors the same size here\n",
    "maxlen = 100\n",
    "\n",
    "X_train = pad_sequences(X_train,padding='post',maxlen=maxlen)\n",
    "X_test = pad_sequences(X_test,padding='post',maxlen=maxlen)\n",
    "\n",
    "print(X_train[1])"
   ]
  },
  {
   "cell_type": "code",
   "execution_count": 27,
   "metadata": {},
   "outputs": [],
   "source": [
    "# we are only going to use the words in GloVe that are actually in out training set\n",
    "def create_embedding_matrix(filepath, word_index, embedding_dim):\n",
    "    vocab_size = len(word_index) + 1  # Adding again 1 because of reserved 0 index\n",
    "    embedding_matrix = np.zeros((vocab_size, embedding_dim))\n",
    "\n",
    "    with open(filepath) as f:\n",
    "        for line in f:\n",
    "            word, *vector = line.split()\n",
    "            if word in word_index:\n",
    "                idx = word_index[word] \n",
    "                embedding_matrix[idx] = np.array(\n",
    "                    vector, dtype=np.float32)[:embedding_dim]\n",
    "\n",
    "    return embedding_matrix"
   ]
  },
  {
   "cell_type": "code",
   "execution_count": 28,
   "metadata": {},
   "outputs": [],
   "source": [
    "embedding_dim = 50\n",
    "embedding_matrix = create_embedding_matrix('/Users/elidangerfield/Desktop/glove.6B/glove.6B.50d.txt',\n",
    "                                           tokenizer.word_index, \n",
    "                                           embedding_dim)"
   ]
  },
  {
   "cell_type": "code",
   "execution_count": 29,
   "metadata": {},
   "outputs": [
    {
     "data": {
      "text/plain": [
       "(1747, 50)"
      ]
     },
     "execution_count": 29,
     "metadata": {},
     "output_type": "execute_result"
    }
   ],
   "source": [
    "# so now we have 1747 words with a 50 dimension vector representation (if it existed already) courtesy of GloVe :)\n",
    "embedding_matrix.shape"
   ]
  },
  {
   "cell_type": "code",
   "execution_count": 30,
   "metadata": {},
   "outputs": [
    {
     "data": {
      "text/plain": [
       "86"
      ]
     },
     "execution_count": 30,
     "metadata": {},
     "output_type": "execute_result"
    }
   ],
   "source": [
    "# however there is a problem: GloVe didnt have every single one of our words. Infact it missed 86 of them\n",
    "nonzero_elements = np.count_nonzero(np.count_nonzero(embedding_matrix, axis=1))\n",
    "vocab_size - nonzero_elements\n",
    "# two roads diverge in a yellow wood of statistics and data analysis here: Keep the data? or Leave the data?\n",
    "# I am choosing to keep it but we can come back and see what happens if we leave it or if we can fix the zero's"
   ]
  },
  {
   "cell_type": "code",
   "execution_count": 43,
   "metadata": {},
   "outputs": [
    {
     "name": "stdout",
     "output_type": "stream",
     "text": [
      "_________________________________________________________________\n",
      "Layer (type)                 Output Shape              Param #   \n",
      "=================================================================\n",
      "embedding_5 (Embedding)      (None, 100, 50)           87350     \n",
      "_________________________________________________________________\n",
      "global_max_pooling1d_5 (Glob (None, 50)                0         \n",
      "_________________________________________________________________\n",
      "dense_7 (Dense)              (None, 10)                510       \n",
      "_________________________________________________________________\n",
      "dense_8 (Dense)              (None, 1)                 11        \n",
      "=================================================================\n",
      "Total params: 87,871\n",
      "Trainable params: 87,871\n",
      "Non-trainable params: 0\n",
      "_________________________________________________________________\n"
     ]
    }
   ],
   "source": [
    "model = Sequential()\n",
    "# I explicitly allow for training for the word embeddings given by GloVe\n",
    "# this will hep with the zeros found in the embedding matrix, doing this increased test accuracy by 7%\n",
    "model.add(layers.Embedding(vocab_size, embedding_dim, \n",
    "                           weights=[embedding_matrix], \n",
    "                           input_length=maxlen, \n",
    "                           trainable=True))\n",
    "# the output at this point is 100 50dim vectors where each vector is a word in the 100 word (padded) review\n",
    "model.add(layers.GlobalMaxPool1D())\n",
    "#max pooling reduced every 50dim vector to 1d so now we have 100 1d vectors\n",
    "model.add(layers.Dense(10,activation='relu'))\n",
    "model.add(layers.Dense(1,activation='sigmoid'))\n",
    "\n",
    "model.compile(optimizer='adam',\n",
    "              loss='binary_crossentropy',\n",
    "              metrics=['accuracy'])\n",
    "\n",
    "model.summary()"
   ]
  },
  {
   "cell_type": "code",
   "execution_count": 44,
   "metadata": {},
   "outputs": [
    {
     "name": "stdout",
     "output_type": "stream",
     "text": [
      "WARNING:tensorflow:From /Users/elidangerfield/anaconda3/envs/firstML/lib/python3.6/site-packages/tensorflow/python/ops/math_grad.py:102: div (from tensorflow.python.ops.math_ops) is deprecated and will be removed in a future version.\n",
      "Instructions for updating:\n",
      "Deprecated in favor of operator or tf.math.divide.\n",
      "Train on 750 samples, validate on 250 samples\n",
      "Epoch 1/50\n",
      "750/750 [==============================] - 3s 4ms/step - loss: 0.7353 - acc: 0.4880 - val_loss: 0.6953 - val_acc: 0.4760\n",
      "Epoch 2/50\n",
      "750/750 [==============================] - 1s 1ms/step - loss: 0.6837 - acc: 0.5640 - val_loss: 0.6880 - val_acc: 0.5760\n",
      "Epoch 3/50\n",
      "750/750 [==============================] - 1s 1ms/step - loss: 0.6683 - acc: 0.6160 - val_loss: 0.6809 - val_acc: 0.6080\n",
      "Epoch 4/50\n",
      "750/750 [==============================] - 1s 1ms/step - loss: 0.6499 - acc: 0.6893 - val_loss: 0.6701 - val_acc: 0.6200\n",
      "Epoch 5/50\n",
      "750/750 [==============================] - 1s 1ms/step - loss: 0.6245 - acc: 0.7453 - val_loss: 0.6567 - val_acc: 0.6520\n",
      "Epoch 6/50\n",
      "750/750 [==============================] - 1s 1ms/step - loss: 0.5932 - acc: 0.7813 - val_loss: 0.6407 - val_acc: 0.6600\n",
      "Epoch 7/50\n",
      "750/750 [==============================] - 1s 1ms/step - loss: 0.5514 - acc: 0.8200 - val_loss: 0.6208 - val_acc: 0.6680\n",
      "Epoch 8/50\n",
      "750/750 [==============================] - 1s 1ms/step - loss: 0.5029 - acc: 0.8453 - val_loss: 0.5984 - val_acc: 0.6880\n",
      "Epoch 9/50\n",
      "750/750 [==============================] - 1s 1ms/step - loss: 0.4426 - acc: 0.8707 - val_loss: 0.5773 - val_acc: 0.7120\n",
      "Epoch 10/50\n",
      "750/750 [==============================] - 1s 1ms/step - loss: 0.3815 - acc: 0.8893 - val_loss: 0.5557 - val_acc: 0.7160\n",
      "Epoch 11/50\n",
      "750/750 [==============================] - 1s 1ms/step - loss: 0.3253 - acc: 0.9133 - val_loss: 0.5370 - val_acc: 0.7320\n",
      "Epoch 12/50\n",
      "750/750 [==============================] - 1s 1ms/step - loss: 0.2684 - acc: 0.9320 - val_loss: 0.5244 - val_acc: 0.7520\n",
      "Epoch 13/50\n",
      "750/750 [==============================] - 1s 1ms/step - loss: 0.2193 - acc: 0.9600 - val_loss: 0.5164 - val_acc: 0.7520\n",
      "Epoch 14/50\n",
      "750/750 [==============================] - 1s 1ms/step - loss: 0.1774 - acc: 0.9640 - val_loss: 0.5103 - val_acc: 0.7560\n",
      "Epoch 15/50\n",
      "750/750 [==============================] - 1s 1ms/step - loss: 0.1447 - acc: 0.9707 - val_loss: 0.5086 - val_acc: 0.7600\n",
      "Epoch 16/50\n",
      "750/750 [==============================] - 1s 1ms/step - loss: 0.1180 - acc: 0.9760 - val_loss: 0.5223 - val_acc: 0.7560\n",
      "Epoch 17/50\n",
      "750/750 [==============================] - 1s 1ms/step - loss: 0.0961 - acc: 0.9880 - val_loss: 0.5123 - val_acc: 0.7760\n",
      "Epoch 18/50\n",
      "750/750 [==============================] - 1s 1ms/step - loss: 0.0765 - acc: 0.9920 - val_loss: 0.5142 - val_acc: 0.7840\n",
      "Epoch 19/50\n",
      "750/750 [==============================] - 1s 1ms/step - loss: 0.0630 - acc: 0.9947 - val_loss: 0.5190 - val_acc: 0.7800\n",
      "Epoch 20/50\n",
      "750/750 [==============================] - 1s 1ms/step - loss: 0.0531 - acc: 0.9947 - val_loss: 0.5231 - val_acc: 0.7760\n",
      "Epoch 21/50\n",
      "750/750 [==============================] - 1s 1ms/step - loss: 0.0407 - acc: 0.9960 - val_loss: 0.5291 - val_acc: 0.7840\n",
      "Epoch 22/50\n",
      "750/750 [==============================] - 1s 1ms/step - loss: 0.0342 - acc: 0.9987 - val_loss: 0.5347 - val_acc: 0.7800\n",
      "Epoch 23/50\n",
      "750/750 [==============================] - 1s 1ms/step - loss: 0.0286 - acc: 0.9987 - val_loss: 0.5400 - val_acc: 0.7840\n",
      "Epoch 24/50\n",
      "750/750 [==============================] - 1s 1ms/step - loss: 0.0238 - acc: 0.9987 - val_loss: 0.5475 - val_acc: 0.7840\n",
      "Epoch 25/50\n",
      "750/750 [==============================] - 1s 1ms/step - loss: 0.0200 - acc: 0.9987 - val_loss: 0.5523 - val_acc: 0.7840\n",
      "Epoch 26/50\n",
      "750/750 [==============================] - 1s 1ms/step - loss: 0.0173 - acc: 0.9987 - val_loss: 0.5594 - val_acc: 0.7840\n",
      "Epoch 27/50\n",
      "750/750 [==============================] - 1s 1ms/step - loss: 0.0147 - acc: 1.0000 - val_loss: 0.5672 - val_acc: 0.7800\n",
      "Epoch 28/50\n",
      "750/750 [==============================] - 1s 1ms/step - loss: 0.0126 - acc: 1.0000 - val_loss: 0.5708 - val_acc: 0.7720\n",
      "Epoch 29/50\n",
      "750/750 [==============================] - 1s 1ms/step - loss: 0.0111 - acc: 1.0000 - val_loss: 0.5752 - val_acc: 0.7760\n",
      "Epoch 30/50\n",
      "750/750 [==============================] - 1s 1ms/step - loss: 0.0097 - acc: 1.0000 - val_loss: 0.5800 - val_acc: 0.7760\n",
      "Epoch 31/50\n",
      "750/750 [==============================] - 1s 1ms/step - loss: 0.0085 - acc: 1.0000 - val_loss: 0.5862 - val_acc: 0.7800\n",
      "Epoch 32/50\n",
      "750/750 [==============================] - 1s 1ms/step - loss: 0.0075 - acc: 1.0000 - val_loss: 0.5908 - val_acc: 0.7720\n",
      "Epoch 33/50\n",
      "750/750 [==============================] - 1s 1ms/step - loss: 0.0067 - acc: 1.0000 - val_loss: 0.5983 - val_acc: 0.7800\n",
      "Epoch 34/50\n",
      "750/750 [==============================] - 1s 1ms/step - loss: 0.0060 - acc: 1.0000 - val_loss: 0.6036 - val_acc: 0.7800\n",
      "Epoch 35/50\n",
      "750/750 [==============================] - 1s 1ms/step - loss: 0.0054 - acc: 1.0000 - val_loss: 0.6098 - val_acc: 0.7800\n",
      "Epoch 36/50\n",
      "750/750 [==============================] - 1s 1ms/step - loss: 0.0048 - acc: 1.0000 - val_loss: 0.6133 - val_acc: 0.7800\n",
      "Epoch 37/50\n",
      "750/750 [==============================] - 1s 1ms/step - loss: 0.0043 - acc: 1.0000 - val_loss: 0.6179 - val_acc: 0.7800\n",
      "Epoch 38/50\n",
      "750/750 [==============================] - 1s 1ms/step - loss: 0.0039 - acc: 1.0000 - val_loss: 0.6223 - val_acc: 0.7800\n",
      "Epoch 39/50\n",
      "750/750 [==============================] - 1s 1ms/step - loss: 0.0036 - acc: 1.0000 - val_loss: 0.6266 - val_acc: 0.7800\n",
      "Epoch 40/50\n",
      "750/750 [==============================] - 1s 2ms/step - loss: 0.0033 - acc: 1.0000 - val_loss: 0.6307 - val_acc: 0.7760\n",
      "Epoch 41/50\n",
      "750/750 [==============================] - 1s 2ms/step - loss: 0.0030 - acc: 1.0000 - val_loss: 0.6360 - val_acc: 0.7760\n",
      "Epoch 42/50\n",
      "750/750 [==============================] - 1s 1ms/step - loss: 0.0027 - acc: 1.0000 - val_loss: 0.6403 - val_acc: 0.7760\n",
      "Epoch 43/50\n",
      "750/750 [==============================] - 1s 2ms/step - loss: 0.0025 - acc: 1.0000 - val_loss: 0.6449 - val_acc: 0.7760\n",
      "Epoch 44/50\n",
      "750/750 [==============================] - 1s 2ms/step - loss: 0.0023 - acc: 1.0000 - val_loss: 0.6477 - val_acc: 0.7800\n",
      "Epoch 45/50\n",
      "750/750 [==============================] - 1s 2ms/step - loss: 0.0021 - acc: 1.0000 - val_loss: 0.6522 - val_acc: 0.7760\n",
      "Epoch 46/50\n",
      "750/750 [==============================] - 1s 2ms/step - loss: 0.0020 - acc: 1.0000 - val_loss: 0.6563 - val_acc: 0.7720\n",
      "Epoch 47/50\n",
      "750/750 [==============================] - 1s 2ms/step - loss: 0.0018 - acc: 1.0000 - val_loss: 0.6606 - val_acc: 0.7720\n",
      "Epoch 48/50\n",
      "750/750 [==============================] - 1s 1ms/step - loss: 0.0017 - acc: 1.0000 - val_loss: 0.6645 - val_acc: 0.7720\n",
      "Epoch 49/50\n",
      "750/750 [==============================] - 1s 1ms/step - loss: 0.0016 - acc: 1.0000 - val_loss: 0.6683 - val_acc: 0.7720\n",
      "Epoch 50/50\n",
      "750/750 [==============================] - 1s 1ms/step - loss: 0.0015 - acc: 1.0000 - val_loss: 0.6720 - val_acc: 0.7720\n",
      "Training Accuracy: 1.0000\n",
      "Testing Accuracy:  0.7720\n"
     ]
    }
   ],
   "source": [
    "history = model.fit(X_train, y_train,\n",
    "                    epochs=50,\n",
    "                    verbose=True,\n",
    "                    validation_data=(X_test, y_test),\n",
    "                    batch_size=10)\n"
   ]
  },
  {
   "cell_type": "code",
   "execution_count": 37,
   "metadata": {},
   "outputs": [],
   "source": [
    "def plot_history(history):\n",
    "    acc = history.history['acc']\n",
    "    val_acc = history.history['val_acc']\n",
    "    loss = history.history['loss']\n",
    "    val_loss = history.history['val_loss']\n",
    "    x = range(1, len(acc) + 1)\n",
    "\n",
    "    plt.figure(figsize=(12, 5))\n",
    "    plt.subplot(1, 2, 1)\n",
    "    plt.plot(x, acc, 'b', label='Training acc')\n",
    "    plt.plot(x, val_acc, 'r', label='Validation acc')\n",
    "    plt.title('Training and validation accuracy')\n",
    "    plt.legend()\n",
    "    plt.subplot(1, 2, 2)\n",
    "    plt.plot(x, loss, 'b', label='Training loss')\n",
    "    plt.plot(x, val_loss, 'r', label='Validation loss')\n",
    "    plt.title('Training and validation loss')\n",
    "    plt.legend()"
   ]
  },
  {
   "cell_type": "code",
   "execution_count": 46,
   "metadata": {},
   "outputs": [
    {
     "name": "stdout",
     "output_type": "stream",
     "text": [
      "Training Accuracy: 1.0000\n",
      "Testing Accuracy:  0.7720\n"
     ]
    },
    {
     "data": {
      "image/png": "[encoded data removed]",
      "text/plain": [
       "<Figure size 864x360 with 2 Axes>"
      ]
     },
     "metadata": {},
     "output_type": "display_data"
    }
   ],
   "source": [
    "plot_history(history)\n",
    "loss, accuracy = model.evaluate(X_train, y_train, verbose=False)\n",
    "print(\"Training Accuracy: {:.4f}\".format(accuracy))\n",
    "loss, accuracy = model.evaluate(X_test, y_test, verbose=False)\n",
    "print(\"Testing Accuracy:  {:.4f}\".format(accuracy))"
   ]
  },
  {
   "cell_type": "code",
   "execution_count": 47,
   "metadata": {},
   "outputs": [
    {
     "name": "stdout",
     "output_type": "stream",
     "text": [
      "Accuracy for  yelp  data:  0.943\n",
      "Accuracy for  amazon  data:  0.72\n",
      "Accuracy for  imdb  data:  0.7125668449197861\n"
     ]
    }
   ],
   "source": [
    "# as you can see again, our model has overfit to the training set with 100% accuracy. \n",
    "# now lets see how our model using pretrained word embeddings does on all of our test sets\n",
    "for source in df['source'].unique():\n",
    "    \n",
    "    df_source = df[df['source'] == source]\n",
    "    sentences = df_source['sentence'].values\n",
    "    y = df_source['label'].values\n",
    "    \n",
    "    #preprocess X in the same way we did for our model\n",
    "    X = tokenizer.texts_to_sequences(sentences)\n",
    "    X = pad_sequences(X,padding='post',maxlen=maxlen)\n",
    "    \n",
    "    loss, accuracy = model.evaluate(X, y, verbose=False)\n",
    "    \n",
    "    print('Accuracy for ',source,' data: ', accuracy)\n"
   ]
  },
  {
   "cell_type": "code",
   "execution_count": null,
   "metadata": {},
   "outputs": [],
   "source": [
    "# this is actually just slightly worse than training our own embeddings"
   ]
  }
 ],
 "metadata": {
  "kernelspec": {
   "display_name": "MNIST_CNN",
   "language": "python",
   "name": "mnist_cnn"
  },
  "language_info": {
   "codemirror_mode": {
    "name": "ipython",
    "version": 3
   },
   "file_extension": ".py",
   "mimetype": "text/x-python",
   "name": "python",
   "nbconvert_exporter": "python",
   "pygments_lexer": "ipython3",
   "version": "3.6.9"
  },
  "toc": {
   "base_numbering": 1,
   "nav_menu": {},
   "number_sections": false,
   "sideBar": true,
   "skip_h1_title": false,
   "title_cell": "Table of Contents",
   "title_sidebar": "Contents",
   "toc_cell": false,
   "toc_position": {},
   "toc_section_display": true,
   "toc_window_display": false
  }
 },
 "nbformat": 4,
 "nbformat_minor": 2
}
