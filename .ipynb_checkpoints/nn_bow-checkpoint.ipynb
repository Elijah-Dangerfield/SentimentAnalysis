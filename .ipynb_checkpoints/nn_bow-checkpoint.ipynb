{
 "cells": [
  {
   "cell_type": "markdown",
   "metadata": {},
   "source": [
    "####  This file explores our sentiment analysis using a Bag of Words approach using a NN to build our model\n",
    "#### Results: Increase in the Amazon dataset but overall similar to our baseline of BOW w/ Logistic Regression"
   ]
  },
  {
   "cell_type": "code",
   "execution_count": 2,
   "metadata": {},
   "outputs": [],
   "source": [
    "import pandas as pd \n",
    "import util\n",
    "from sklearn.feature_extraction.text import CountVectorizer\n",
    "from sklearn.model_selection import train_test_split\n",
    "from keras.models import Sequential\n",
    "from keras import layers\n",
    "import matplotlib.pyplot as plt\n",
    "plt.style.use('ggplot')"
   ]
  },
  {
   "cell_type": "code",
   "execution_count": 3,
   "metadata": {},
   "outputs": [],
   "source": [
    "df = util.get_full_data_frame()"
   ]
  },
  {
   "cell_type": "code",
   "execution_count": 4,
   "metadata": {},
   "outputs": [
    {
     "name": "stdout",
     "output_type": "stream",
     "text": [
      "Training set: 750 \n",
      "Testing set: 250 \n"
     ]
    }
   ],
   "source": [
    "df_yelp = df[df['source'] == 'yelp']\n",
    "sentences = df_yelp['sentence'].values\n",
    "y = df_yelp['label'].values\n",
    "\n",
    "sentences_train,sentences_test,y_train,y_test = train_test_split(sentences,y,test_size=0.25,random_state=1000)\n",
    "\n",
    "print('Training set: {} '.format(len(sentences_train)))\n",
    "print('Testing set: {} '.format(len(sentences_test)))"
   ]
  },
  {
   "cell_type": "code",
   "execution_count": 5,
   "metadata": {},
   "outputs": [
    {
     "data": {
      "text/plain": [
       "(750, 1714)"
      ]
     },
     "execution_count": 5,
     "metadata": {},
     "output_type": "execute_result"
    }
   ],
   "source": [
    "# we will create our vocabulary using only the training set\n",
    "vectorizer = CountVectorizer()\n",
    "vectorizer.fit(sentences_train)\n",
    "\n",
    "#then we create our feature vectors for every sentence. NOTE: scikit takes care of lots of preprocessing for us by\n",
    "#tokenizing sentences (removing punctuation, special characters....)\n",
    "#this is one of our HYPER PERAMETERS, we can change how we tokenize\n",
    "X_train = vectorizer.transform(sentences_train)\n",
    "X_test =  vectorizer.transform(sentences_test)\n",
    "\n",
    "#for these reviews the vocabulary is 1714 words which will mean that every feature vector is that long as well (not hot)\n",
    "X_train.shape"
   ]
  },
  {
   "cell_type": "code",
   "execution_count": 6,
   "metadata": {},
   "outputs": [
    {
     "name": "stdout",
     "output_type": "stream",
     "text": [
      "WARNING:tensorflow:From /Users/elidangerfield/anaconda3/envs/firstML/lib/python3.6/site-packages/tensorflow/python/framework/op_def_library.py:263: colocate_with (from tensorflow.python.framework.ops) is deprecated and will be removed in a future version.\n",
      "Instructions for updating:\n",
      "Colocations handled automatically by placer.\n"
     ]
    }
   ],
   "source": [
    "# now we can see how our regular vectors do with a NN rather than a logistic regression model\n",
    "input_dim = X_train.shape[1]\n",
    "\n",
    "# here we create a model that maps 1714 dimensions to 10, then to 1 which will use sigmoid to output a 1 or 0\n",
    "\n",
    "model = Sequential()\n",
    "model.add(layers.Dense(10,input_dim= input_dim, activation = 'relu'))\n",
    "model.add(layers.Dense(1,activation= 'sigmoid'))"
   ]
  },
  {
   "cell_type": "code",
   "execution_count": 7,
   "metadata": {},
   "outputs": [
    {
     "name": "stdout",
     "output_type": "stream",
     "text": [
      "_________________________________________________________________\n",
      "Layer (type)                 Output Shape              Param #   \n",
      "=================================================================\n",
      "dense_1 (Dense)              (None, 10)                17150     \n",
      "_________________________________________________________________\n",
      "dense_2 (Dense)              (None, 1)                 11        \n",
      "=================================================================\n",
      "Total params: 17,161\n",
      "Trainable params: 17,161\n",
      "Non-trainable params: 0\n",
      "_________________________________________________________________\n"
     ]
    }
   ],
   "source": [
    "model.compile(loss = 'binary_crossentropy', optimizer= 'adam', metrics=['accuracy'])\n",
    "model.summary()"
   ]
  },
  {
   "cell_type": "code",
   "execution_count": 8,
   "metadata": {},
   "outputs": [
    {
     "name": "stdout",
     "output_type": "stream",
     "text": [
      "WARNING:tensorflow:From /Users/elidangerfield/anaconda3/envs/firstML/lib/python3.6/site-packages/tensorflow/python/ops/math_ops.py:3066: to_int32 (from tensorflow.python.ops.math_ops) is deprecated and will be removed in a future version.\n",
      "Instructions for updating:\n",
      "Use tf.cast instead.\n",
      "Train on 750 samples, validate on 250 samples\n",
      "Epoch 1/20\n",
      "750/750 [==============================] - 2s 3ms/step - loss: 0.6862 - acc: 0.5853 - val_loss: 0.6764 - val_acc: 0.6400\n",
      "Epoch 2/20\n",
      "750/750 [==============================] - 0s 453us/step - loss: 0.6291 - acc: 0.8147 - val_loss: 0.6372 - val_acc: 0.7360\n",
      "Epoch 3/20\n",
      "750/750 [==============================] - 1s 839us/step - loss: 0.5357 - acc: 0.8853 - val_loss: 0.5798 - val_acc: 0.7800\n",
      "Epoch 4/20\n",
      "750/750 [==============================] - 0s 434us/step - loss: 0.4243 - acc: 0.9213 - val_loss: 0.5281 - val_acc: 0.7800\n",
      "Epoch 5/20\n",
      "750/750 [==============================] - 1s 730us/step - loss: 0.3289 - acc: 0.9533 - val_loss: 0.4910 - val_acc: 0.7680\n",
      "Epoch 6/20\n",
      "750/750 [==============================] - 0s 443us/step - loss: 0.2587 - acc: 0.9640 - val_loss: 0.4631 - val_acc: 0.7800\n",
      "Epoch 7/20\n",
      "750/750 [==============================] - 1s 750us/step - loss: 0.2065 - acc: 0.9707 - val_loss: 0.4462 - val_acc: 0.7720\n",
      "Epoch 8/20\n",
      "750/750 [==============================] - 1s 851us/step - loss: 0.1673 - acc: 0.9813 - val_loss: 0.4338 - val_acc: 0.7760\n",
      "Epoch 9/20\n",
      "750/750 [==============================] - 0s 490us/step - loss: 0.1389 - acc: 0.9880 - val_loss: 0.4236 - val_acc: 0.7920\n",
      "Epoch 10/20\n",
      "750/750 [==============================] - 1s 784us/step - loss: 0.1159 - acc: 0.9907 - val_loss: 0.4155 - val_acc: 0.7920\n",
      "Epoch 11/20\n",
      "750/750 [==============================] - 1s 869us/step - loss: 0.0984 - acc: 0.9920 - val_loss: 0.4147 - val_acc: 0.8000\n",
      "Epoch 12/20\n",
      "750/750 [==============================] - 0s 504us/step - loss: 0.0839 - acc: 0.9933 - val_loss: 0.4119 - val_acc: 0.7880\n",
      "Epoch 13/20\n",
      "750/750 [==============================] - 1s 852us/step - loss: 0.0727 - acc: 0.9960 - val_loss: 0.4123 - val_acc: 0.7960\n",
      "Epoch 14/20\n",
      "750/750 [==============================] - 0s 664us/step - loss: 0.0632 - acc: 0.9960 - val_loss: 0.4109 - val_acc: 0.7920\n",
      "Epoch 15/20\n",
      "750/750 [==============================] - 1s 927us/step - loss: 0.0555 - acc: 0.9973 - val_loss: 0.4103 - val_acc: 0.7960\n",
      "Epoch 16/20\n",
      "750/750 [==============================] - 1s 678us/step - loss: 0.0490 - acc: 0.9973 - val_loss: 0.4118 - val_acc: 0.8000\n",
      "Epoch 17/20\n",
      "750/750 [==============================] - 0s 454us/step - loss: 0.0437 - acc: 0.9973 - val_loss: 0.4138 - val_acc: 0.7960\n",
      "Epoch 18/20\n",
      "750/750 [==============================] - 1s 725us/step - loss: 0.0389 - acc: 0.9973 - val_loss: 0.4154 - val_acc: 0.7920\n",
      "Epoch 19/20\n",
      "750/750 [==============================] - 0s 565us/step - loss: 0.0351 - acc: 0.9973 - val_loss: 0.4179 - val_acc: 0.7960\n",
      "Epoch 20/20\n",
      "750/750 [==============================] - 0s 441us/step - loss: 0.0314 - acc: 0.9973 - val_loss: 0.4202 - val_acc: 0.8040\n"
     ]
    }
   ],
   "source": [
    "history = model.fit(X_train,y_train,\n",
    "                    epochs=20,\n",
    "                    verbose=True,\n",
    "                    validation_data=(X_test,y_test),\n",
    "                    batch_size=10)"
   ]
  },
  {
   "cell_type": "code",
   "execution_count": 9,
   "metadata": {},
   "outputs": [
    {
     "name": "stdout",
     "output_type": "stream",
     "text": [
      "Training Accuracy: 0.9973\n",
      "Testing Accuracy:  0.8040\n"
     ]
    }
   ],
   "source": [
    "loss, accuracy = model.evaluate(X_train, y_train, verbose=False)\n",
    "print(\"Training Accuracy: {:.4f}\".format(accuracy))\n",
    "loss, accuracy = model.evaluate(X_test, y_test, verbose=False)\n",
    "print(\"Testing Accuracy:  {:.4f}\".format(accuracy))"
   ]
  },
  {
   "cell_type": "code",
   "execution_count": 10,
   "metadata": {},
   "outputs": [
    {
     "data": {
      "image/png": "[encoded data removed]",
      "text/plain": [
       "<Figure size 864x360 with 2 Axes>"
      ]
     },
     "metadata": {},
     "output_type": "display_data"
    }
   ],
   "source": [
    "util.plot_history(history)"
   ]
  },
  {
   "cell_type": "code",
   "execution_count": null,
   "metadata": {},
   "outputs": [],
   "source": [
    "# for learning: typically we have some validation set that we use to pick our best model\n",
    "# then once found we use that against our test set for papers and such\n",
    "# as you can see the best accuracy is around 20 epochs. So I have retrained the model using 20 epochs\n",
    "# now we can test our new model against the Amazon and IMDB data sets"
   ]
  },
  {
   "cell_type": "code",
   "execution_count": 11,
   "metadata": {},
   "outputs": [
    {
     "name": "stdout",
     "output_type": "stream",
     "text": [
      "Accuracy for  yelp  data:  0.949\n",
      "Accuracy for  amazon  data:  0.744\n",
      "Accuracy for  imdb  data:  0.7112299465240641\n"
     ]
    }
   ],
   "source": [
    "for source in df['source'].unique():\n",
    "    \n",
    "    df_source = df[df['source'] == source]\n",
    "    sentences = df_source['sentence'].values\n",
    "    y = df_source['label'].values\n",
    "    X =  vectorizer.transform(sentences)\n",
    "    \n",
    "    loss, accuracy = model.evaluate(X, y, verbose=False)\n",
    "    \n",
    "    print('Accuracy for ',source,' data: ', accuracy)"
   ]
  },
  {
   "cell_type": "code",
   "execution_count": null,
   "metadata": {},
   "outputs": [],
   "source": [
    "# as you can see our IMDB accuracy increased by about 5%. Otherwise our results are very similar."
   ]
  }
 ],
 "metadata": {
  "kernelspec": {
   "display_name": "MNIST_CNN",
   "language": "python",
   "name": "mnist_cnn"
  },
  "language_info": {
   "codemirror_mode": {
    "name": "ipython",
    "version": 3
   },
   "file_extension": ".py",
   "mimetype": "text/x-python",
   "name": "python",
   "nbconvert_exporter": "python",
   "pygments_lexer": "ipython3",
   "version": "3.6.9"
  },
  "toc": {
   "base_numbering": 1,
   "nav_menu": {},
   "number_sections": false,
   "sideBar": true,
   "skip_h1_title": false,
   "title_cell": "Table of Contents",
   "title_sidebar": "Contents",
   "toc_cell": false,
   "toc_position": {},
   "toc_section_display": true,
   "toc_window_display": false
  }
 },
 "nbformat": 4,
 "nbformat_minor": 2
}
