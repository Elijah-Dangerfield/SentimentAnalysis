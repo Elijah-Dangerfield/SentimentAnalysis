{
 "cells": [
  {
   "cell_type": "markdown",
   "metadata": {},
   "source": [
    "####  This file explores our sentiment analysis using a Bag of Words approach using a NN to build our model\n",
    "#### Results: Increase in the Amazon dataset but overall similar to our baseline of BOW w/ Logistic Regression"
   ]
  },
  {
   "cell_type": "code",
   "execution_count": 28,
   "metadata": {},
   "outputs": [],
   "source": [
    "import pandas as pd \n",
    "from sklearn.feature_extraction.text import CountVectorizer\n",
    "from sklearn.model_selection import train_test_split\n",
    "from keras.models import Sequential\n",
    "from keras import layers\n",
    "import matplotlib.pyplot as plt\n",
    "plt.style.use('ggplot')"
   ]
  },
  {
   "cell_type": "code",
   "execution_count": 21,
   "metadata": {},
   "outputs": [
    {
     "name": "stdout",
     "output_type": "stream",
     "text": [
      "sentence    Wow... Loved this place.\n",
      "label                              1\n",
      "source                          yelp\n",
      "Name: 0, dtype: object\n"
     ]
    }
   ],
   "source": [
    "filepath_dict = {'yelp': './data/yelp_labelled.txt',\n",
    "                'amazon' : './data/amazon_cells_labelled.txt',\n",
    "                'imdb' : './data/imdb_labelled.txt'}\n",
    "df_list = []\n",
    "for source,path in filepath_dict.items():\n",
    "    df = pd.read_csv(path, names = ['sentence', 'label'], sep= '\\t')\n",
    "    df['source'] = source\n",
    "    df_list.append(df)\n",
    "\n",
    "df = pd.concat(df_list)\n",
    "print(df.iloc[0])"
   ]
  },
  {
   "cell_type": "code",
   "execution_count": 22,
   "metadata": {},
   "outputs": [
    {
     "name": "stdout",
     "output_type": "stream",
     "text": [
      "Training set: 750 \n",
      "Testing set: 250 \n"
     ]
    }
   ],
   "source": [
    "df_yelp = df[df['source'] == 'yelp']\n",
    "sentences = df_yelp['sentence'].values\n",
    "y = df_yelp['label'].values\n",
    "\n",
    "sentences_train,sentences_test,y_train,y_test = train_test_split(sentences,y,test_size=0.25,random_state=1000)\n",
    "\n",
    "print('Training set: {} '.format(len(sentences_train)))\n",
    "print('Testing set: {} '.format(len(sentences_test)))"
   ]
  },
  {
   "cell_type": "code",
   "execution_count": 23,
   "metadata": {},
   "outputs": [
    {
     "data": {
      "text/plain": [
       "(750, 1714)"
      ]
     },
     "execution_count": 23,
     "metadata": {},
     "output_type": "execute_result"
    }
   ],
   "source": [
    "# we will create our vocabulary using only the training set\n",
    "vectorizer = CountVectorizer()\n",
    "vectorizer.fit(sentences_train)\n",
    "\n",
    "#then we create our feature vectors for every sentence. NOTE: scikit takes care of lots of preprocessing for us by\n",
    "#tokenizing sentences (removing punctuation, special characters....)\n",
    "#this is one of our HYPER PERAMETERS, we can change how we tokenize\n",
    "X_train = vectorizer.transform(sentences_train)\n",
    "X_test =  vectorizer.transform(sentences_test)\n",
    "\n",
    "#for these reviews the vocabulary is 1714 words which will mean that every feature vector is that long as well (not hot)\n",
    "X_train.shape"
   ]
  },
  {
   "cell_type": "code",
   "execution_count": 24,
   "metadata": {},
   "outputs": [],
   "source": [
    "# now we can see how our regular vectors do with a NN rather than a logistic regression model\n",
    "input_dim = X_train.shape[1]\n",
    "\n",
    "# here we create a model that maps 1714 dimensions to 10, then to 1 which will use sigmoid to output a 1 or 0\n",
    "\n",
    "model = Sequential()\n",
    "model.add(layers.Dense(10,input_dim= input_dim, activation = 'relu'))\n",
    "model.add(layers.Dense(1,activation= 'sigmoid'))"
   ]
  },
  {
   "cell_type": "code",
   "execution_count": 25,
   "metadata": {},
   "outputs": [
    {
     "name": "stdout",
     "output_type": "stream",
     "text": [
      "_________________________________________________________________\n",
      "Layer (type)                 Output Shape              Param #   \n",
      "=================================================================\n",
      "dense_3 (Dense)              (None, 10)                17150     \n",
      "_________________________________________________________________\n",
      "dense_4 (Dense)              (None, 1)                 11        \n",
      "=================================================================\n",
      "Total params: 17,161\n",
      "Trainable params: 17,161\n",
      "Non-trainable params: 0\n",
      "_________________________________________________________________\n"
     ]
    }
   ],
   "source": [
    "model.compile(loss = 'binary_crossentropy', optimizer= 'adam', metrics=['accuracy'])\n",
    "model.summary()"
   ]
  },
  {
   "cell_type": "code",
   "execution_count": 31,
   "metadata": {},
   "outputs": [
    {
     "name": "stdout",
     "output_type": "stream",
     "text": [
      "Train on 750 samples, validate on 250 samples\n",
      "Epoch 1/20\n",
      "750/750 [==============================] - 0s 262us/step - loss: 4.6593e-05 - acc: 1.0000 - val_loss: 0.9556 - val_acc: 0.7920\n",
      "Epoch 2/20\n",
      "750/750 [==============================] - 0s 257us/step - loss: 4.4635e-05 - acc: 1.0000 - val_loss: 0.9595 - val_acc: 0.7920\n",
      "Epoch 3/20\n",
      "750/750 [==============================] - 0s 247us/step - loss: 4.2807e-05 - acc: 1.0000 - val_loss: 0.9637 - val_acc: 0.7920\n",
      "Epoch 4/20\n",
      "750/750 [==============================] - 0s 337us/step - loss: 4.1209e-05 - acc: 1.0000 - val_loss: 0.9679 - val_acc: 0.7920\n",
      "Epoch 5/20\n",
      "750/750 [==============================] - 0s 279us/step - loss: 3.9451e-05 - acc: 1.0000 - val_loss: 0.9727 - val_acc: 0.7920\n",
      "Epoch 6/20\n",
      "750/750 [==============================] - 0s 440us/step - loss: 3.8028e-05 - acc: 1.0000 - val_loss: 0.9764 - val_acc: 0.7920\n",
      "Epoch 7/20\n",
      "750/750 [==============================] - 0s 498us/step - loss: 3.6435e-05 - acc: 1.0000 - val_loss: 0.9803 - val_acc: 0.7920\n",
      "Epoch 8/20\n",
      "750/750 [==============================] - 0s 229us/step - loss: 3.5146e-05 - acc: 1.0000 - val_loss: 0.9850 - val_acc: 0.7920\n",
      "Epoch 9/20\n",
      "750/750 [==============================] - 0s 299us/step - loss: 3.3539e-05 - acc: 1.0000 - val_loss: 0.9897 - val_acc: 0.7920\n",
      "Epoch 10/20\n",
      "750/750 [==============================] - 0s 544us/step - loss: 3.2053e-05 - acc: 1.0000 - val_loss: 0.9941 - val_acc: 0.7920\n",
      "Epoch 11/20\n",
      "750/750 [==============================] - 0s 506us/step - loss: 3.0942e-05 - acc: 1.0000 - val_loss: 0.9990 - val_acc: 0.7840\n",
      "Epoch 12/20\n",
      "750/750 [==============================] - 0s 441us/step - loss: 2.9671e-05 - acc: 1.0000 - val_loss: 1.0026 - val_acc: 0.7880\n",
      "Epoch 13/20\n",
      "750/750 [==============================] - 0s 256us/step - loss: 2.8599e-05 - acc: 1.0000 - val_loss: 1.0081 - val_acc: 0.7840\n",
      "Epoch 14/20\n",
      "750/750 [==============================] - 0s 227us/step - loss: 2.7294e-05 - acc: 1.0000 - val_loss: 1.0115 - val_acc: 0.7880\n",
      "Epoch 15/20\n",
      "750/750 [==============================] - 0s 322us/step - loss: 2.6352e-05 - acc: 1.0000 - val_loss: 1.0175 - val_acc: 0.7840\n",
      "Epoch 16/20\n",
      "750/750 [==============================] - 0s 529us/step - loss: 2.5144e-05 - acc: 1.0000 - val_loss: 1.0210 - val_acc: 0.7840\n",
      "Epoch 17/20\n",
      "750/750 [==============================] - 0s 360us/step - loss: 2.4210e-05 - acc: 1.0000 - val_loss: 1.0252 - val_acc: 0.7840\n",
      "Epoch 18/20\n",
      "750/750 [==============================] - 0s 568us/step - loss: 2.3173e-05 - acc: 1.0000 - val_loss: 1.0293 - val_acc: 0.7840\n",
      "Epoch 19/20\n",
      "750/750 [==============================] - 0s 377us/step - loss: 2.2296e-05 - acc: 1.0000 - val_loss: 1.0335 - val_acc: 0.7840\n",
      "Epoch 20/20\n",
      "750/750 [==============================] - 0s 253us/step - loss: 2.1430e-05 - acc: 1.0000 - val_loss: 1.0383 - val_acc: 0.7840\n"
     ]
    }
   ],
   "source": [
    "history = model.fit(X_train,y_train,\n",
    "                    epochs=20,\n",
    "                    verbose=True,\n",
    "                    validation_data=(X_test,y_test),\n",
    "                    batch_size=10)"
   ]
  },
  {
   "cell_type": "code",
   "execution_count": 27,
   "metadata": {},
   "outputs": [
    {
     "name": "stdout",
     "output_type": "stream",
     "text": [
      "Training Accuracy: 1.0000\n",
      "Testing Accuracy:  0.7880\n"
     ]
    }
   ],
   "source": [
    "loss, accuracy = model.evaluate(X_train, y_train, verbose=False)\n",
    "print(\"Training Accuracy: {:.4f}\".format(accuracy))\n",
    "loss, accuracy = model.evaluate(X_test, y_test, verbose=False)\n",
    "print(\"Testing Accuracy:  {:.4f}\".format(accuracy))"
   ]
  },
  {
   "cell_type": "code",
   "execution_count": 29,
   "metadata": {},
   "outputs": [],
   "source": [
    "# NOTE: the model is very clearly overfit. We only had 750 training data points. and used 150 epochs with 10\n",
    "# data samples\n",
    "def plot_history(history):\n",
    "    acc = history.history['acc']\n",
    "    val_acc = history.history['val_acc']\n",
    "    loss = history.history['loss']\n",
    "    val_loss = history.history['val_loss']\n",
    "    x = range(1, len(acc) + 1)\n",
    "\n",
    "    plt.figure(figsize=(12, 5))\n",
    "    plt.subplot(1, 2, 1)\n",
    "    plt.plot(x, acc, 'b', label='Training acc')\n",
    "    plt.plot(x, val_acc, 'r', label='Validation acc')\n",
    "    plt.title('Training and validation accuracy')\n",
    "    plt.legend()\n",
    "    plt.subplot(1, 2, 2)\n",
    "    plt.plot(x, loss, 'b', label='Training loss')\n",
    "    plt.plot(x, val_loss, 'r', label='Validation loss')\n",
    "    plt.title('Training and validation loss')\n",
    "    plt.legend()"
   ]
  },
  {
   "cell_type": "code",
   "execution_count": 30,
   "metadata": {},
   "outputs": [
    {
     "data": {
      "image/png": "[encoded data removed]",
      "text/plain": [
       "<Figure size 864x360 with 2 Axes>"
      ]
     },
     "metadata": {
      "needs_background": "light"
     },
     "output_type": "display_data"
    }
   ],
   "source": [
    "plot_history(history)"
   ]
  },
  {
   "cell_type": "code",
   "execution_count": null,
   "metadata": {},
   "outputs": [],
   "source": [
    "# for learning: typically we have some validation set that we use to pick our best model\n",
    "# then once found we use that against our test set for papers and such\n",
    "# as you can see the best accuracy is around 20 epochs. So I have retrained the model using 20 epochs\n",
    "# now we can test our new model against the Amazon and IMDB data sets"
   ]
  },
  {
   "cell_type": "code",
   "execution_count": 34,
   "metadata": {},
   "outputs": [
    {
     "name": "stdout",
     "output_type": "stream",
     "text": [
      "Accuracy for  yelp  data:  0.946\n",
      "Accuracy for  amazon  data:  0.731\n",
      "Accuracy for  imdb  data:  0.7165775404256933\n"
     ]
    }
   ],
   "source": [
    "for source in df['source'].unique():\n",
    "    \n",
    "    df_source = df[df['source'] == source]\n",
    "    sentences = df_source['sentence'].values\n",
    "    y = df_source['label'].values\n",
    "    X =  vectorizer.transform(sentences)\n",
    "    \n",
    "    loss, accuracy = model.evaluate(X, y, verbose=False)\n",
    "    \n",
    "    print('Accuracy for ',source,' data: ', accuracy)"
   ]
  },
  {
   "cell_type": "code",
   "execution_count": null,
   "metadata": {},
   "outputs": [],
   "source": [
    "# as you can see our IMDB accuracy increased by about 5%. Otherwise our results are very similar."
   ]
  }
 ],
 "metadata": {
  "kernelspec": {
   "display_name": "MNIST_CNN",
   "language": "python",
   "name": "mnist_cnn"
  },
  "language_info": {
   "codemirror_mode": {
    "name": "ipython",
    "version": 3
   },
   "file_extension": ".py",
   "mimetype": "text/x-python",
   "name": "python",
   "nbconvert_exporter": "python",
   "pygments_lexer": "ipython3",
   "version": "3.6.9"
  },
  "toc": {
   "base_numbering": 1,
   "nav_menu": {},
   "number_sections": false,
   "sideBar": true,
   "skip_h1_title": false,
   "title_cell": "Table of Contents",
   "title_sidebar": "Contents",
   "toc_cell": false,
   "toc_position": {},
   "toc_section_display": true,
   "toc_window_display": false
  }
 },
 "nbformat": 4,
 "nbformat_minor": 2
}
